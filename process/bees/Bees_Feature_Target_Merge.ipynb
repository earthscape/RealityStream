{
 "cells": [
  {
   "cell_type": "markdown",
   "id": "bb8a51c1-222c-4028-8a13-e31b80fa69de",
   "metadata": {},
   "source": [
    "(1) Merge features and targets for all 50 states"
   ]
  },
  {
   "cell_type": "code",
   "execution_count": 1,
   "id": "719824af-63ec-4809-b460-ad02c7968d9c",
   "metadata": {},
   "outputs": [],
   "source": [
    "import pandas as pd\n",
    "import os"
   ]
  },
  {
   "cell_type": "code",
   "execution_count": 34,
   "id": "06cf807e-643f-48c3-a671-842ba5c880d6",
   "metadata": {},
   "outputs": [],
   "source": [
    "state_dict = {\n",
    "    \"AL\": \"ALABAMA\", \n",
    "    \"AK\": \"ALASKA\", \n",
    "    \"AZ\": \"ARIZONA\", \n",
    "    \"AR\": \"ARKANSAS\", \n",
    "    \"CA\": \"CALIFORNIA\", \n",
    "    \"CO\": \"COLORADO\", \n",
    "    \"CT\": \"CONNECTICUT\", \n",
    "    \"DE\": \"DELAWARE\", \n",
    "    \"FL\": \"FLORIDA\", \n",
    "    \"GA\": \"GEORGIA\", \n",
    "    \"HI\": \"HAWAII\", \n",
    "    \"ID\": \"IDAHO\", \n",
    "    \"IL\": \"ILLINOIS\", \n",
    "    \"IN\": \"INDIANA\", \n",
    "    \"IA\": \"IOWA\", \n",
    "    \"KS\": \"KANSAS\", \n",
    "    \"KY\": \"KENTUCKY\", \n",
    "    \"LA\": \"LOUISIANA\", \n",
    "    \"ME\": \"MAINE\", \n",
    "    \"MD\": \"MARYLAND\", \n",
    "    \"MA\": \"MASSACHUSETTS\", \n",
    "    \"MI\": \"MICHIGAN\", \n",
    "    \"MN\": \"MINNESOTA\", \n",
    "    \"MS\": \"MISSISSIPPI\", \n",
    "    \"MO\": \"MISSOURI\", \n",
    "    \"MT\": \"MONTANA\", \n",
    "    \"NE\": \"NEBRASKA\", \n",
    "    \"NV\": \"NEVADA\", \n",
    "    \"NH\": \"NEW HAMPSHIRE\", \n",
    "    \"NJ\": \"NEW JERSEY\", \n",
    "    \"NM\": \"NEW MEXICO\", \n",
    "    \"NY\": \"NEW YORK\", \n",
    "    \"NC\": \"NORTH CAROLINA\", \n",
    "    \"ND\": \"NORTH DAKOTA\",\n",
    "    \"OH\": \"OHIO\", \n",
    "    \"OK\": \"OKLAHOMA\", \n",
    "    \"OR\": \"OREGON\", \n",
    "    \"PA\": \"PENNSYLVANIA\", \n",
    "    \"RI\": \"RHODE ISLAND\", \n",
    "    \"SC\": \"SOUTH CAROLINA\", \n",
    "    \"SD\": \"SOUTH DAKOTA\", \n",
    "    \"TN\": \"TENNESSEE\", \n",
    "    \"TX\": \"TEXAS\", \n",
    "    \"UT\": \"UTAH\", \n",
    "    \"VT\": \"VERMONT\", \n",
    "    \"VA\": \"VIRGINIA\", \n",
    "    \"WA\": \"WASHINGTON\", \n",
    "    \"WV\": \"WEST VIRGINIA\", \n",
    "    \"WI\": \"WISCONSIN\", \n",
    "    \"WY\": \"WYOMING\"\n",
    "}"
   ]
  },
  {
   "cell_type": "code",
   "execution_count": 35,
   "id": "3e0783da-3a7b-417d-8f53-63a4710dcc55",
   "metadata": {},
   "outputs": [],
   "source": [
    "country = \"US\"\n",
    "naics = 2\n",
    "year = 2017\n",
    "target_url = f\"https://raw.githubusercontent.com/ModelEarth/RealityStream/main/input/bees/targets/bees-targets.csv\""
   ]
  },
  {
   "cell_type": "code",
   "execution_count": 37,
   "id": "f9ab67bf-538d-4d85-bb24-031e3213fcca",
   "metadata": {},
   "outputs": [],
   "source": [
    "for state in state_dict:\n",
    "    state_url = f\"https://raw.githubusercontent.com/ModelEarth/community-timelines/main/training/naics{naics}/{country}/counties/{year}/{country}-{state}-training-naics{naics}-counties-{year}.csv\"\n",
    "    feature_df = pd.read_csv(state_url)\n",
    "    feature_df = feature_df.rename(columns={\"Name\": \"County\"})\n",
    "    target_df = pd.read_csv(target_url)\n",
    "    merged_df = pd.merge(feature_df, target_df[target_df[\"State\"]==state_dict[state]], on=[\"Fips\",\"County\"], how=\"inner\")\n",
    "    merged_df.drop(columns=['Unnamed: 0'], axis=1, inplace=True)\n",
    "    merged_df.to_csv(f\"merged_naics{naics}_{state}.csv\", index=False)"
   ]
  },
  {
   "cell_type": "markdown",
   "id": "3eff389f-da10-4378-916b-f6b1a485f8c4",
   "metadata": {},
   "source": [
    "(2) Generate Full Dataset"
   ]
  },
  {
   "cell_type": "code",
   "execution_count": 5,
   "id": "68c21c3c-0045-4bef-ae6e-d2524c8995c0",
   "metadata": {},
   "outputs": [
    {
     "name": "stderr",
     "output_type": "stream",
     "text": [
      "C:\\Users\\Honglin Zhu\\AppData\\Local\\Temp\\ipykernel_2600\\3773091425.py:9: FutureWarning: The behavior of DataFrame concatenation with empty or all-NA entries is deprecated. In a future version, this will no longer exclude empty or all-NA columns when determining the result dtypes. To retain the old behavior, exclude the relevant entries before the concat operation.\n",
      "  integrated_df = pd.concat(dataframes, ignore_index=True)\n"
     ]
    }
   ],
   "source": [
    "dataframes = []\n",
    "\n",
    "csv_directory = os.getcwd()\n",
    "csv_files = os.listdir(csv_directory)\n",
    "for csv_file in csv_files:\n",
    "    if csv_file.endswith('.csv'):\n",
    "        dataframes.append(pd.read_csv(os.path.join(csv_directory, csv_file)))\n",
    "\n",
    "integrated_df = pd.concat(dataframes, ignore_index=True)\n",
    "integrated_df.to_csv(f\"merged_naics{naics}_integrated.csv\", index=False)"
   ]
  },
  {
   "cell_type": "markdown",
   "id": "45b92457-a198-41ee-b1e2-dc47c4dc5ea1",
   "metadata": {},
   "source": [
    "(3) Pre-Process and Split"
   ]
  },
  {
   "cell_type": "code",
   "execution_count": null,
   "id": "92e96814-113d-4294-b1bd-3cdd50086474",
   "metadata": {},
   "outputs": [],
   "source": []
  }
 ],
 "metadata": {
  "kernelspec": {
   "display_name": "Python 3 (ipykernel)",
   "language": "python",
   "name": "python3"
  },
  "language_info": {
   "codemirror_mode": {
    "name": "ipython",
    "version": 3
   },
   "file_extension": ".py",
   "mimetype": "text/x-python",
   "name": "python",
   "nbconvert_exporter": "python",
   "pygments_lexer": "ipython3",
   "version": "3.11.5"
  }
 },
 "nbformat": 4,
 "nbformat_minor": 5
}
