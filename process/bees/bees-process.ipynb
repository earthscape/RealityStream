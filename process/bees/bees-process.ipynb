{
 "cells": [
  {
   "cell_type": "code",
   "execution_count": 1,
   "id": "b966f462-4715-411f-a017-474c9b4ca26b",
   "metadata": {},
   "outputs": [],
   "source": [
    "import pandas as pd\n",
    "from sklearn.model_selection import train_test_split\n",
    "import os"
   ]
  },
  {
   "cell_type": "code",
   "execution_count": 2,
   "id": "7c01a775",
   "metadata": {},
   "outputs": [],
   "source": [
    "def check_directory(directory_path):\n",
    "    if not os.path.exists(directory_path):\n",
    "        try:\n",
    "            os.makedirs(directory_path)\n",
    "            print(f\"Directory '{directory_path}' created successfully.\")\n",
    "        except OSError as e:\n",
    "            print(f\"Error creating directory '{directory_path}': {e}\")\n",
    "    else:\n",
    "        print(f\"Directory '{directory_path}' already exists.\")\n",
    "    return directory_path"
   ]
  },
  {
   "cell_type": "code",
   "execution_count": 3,
   "id": "38654a14-5990-4627-912b-d18f29d26676",
   "metadata": {},
   "outputs": [],
   "source": [
    "dataset_name = \"bees\"\n",
    "target_name = \"2022_increase\"\n",
    "df = pd.read_csv(f'../../input/{dataset_name}/targets/{dataset_name}-targets.csv')"
   ]
  },
  {
   "cell_type": "code",
   "execution_count": 4,
   "id": "b27e5cb3-5707-4616-9548-bec1fb537326",
   "metadata": {},
   "outputs": [],
   "source": [
    "df = df.dropna()\n",
    "X = df.drop(target_name, axis=1)\n",
    "y = df[target_name]\n",
    "X_train, X_test, y_train, y_test = train_test_split(X, y, test_size=0.2, random_state=42)"
   ]
  },
  {
   "cell_type": "code",
   "execution_count": 5,
   "id": "ede98853",
   "metadata": {},
   "outputs": [
    {
     "name": "stdout",
     "output_type": "stream",
     "text": [
      "Directory '../../output/bees/training' already exists.\n",
      "Directory '../../output/bees/saved' already exists.\n"
     ]
    },
    {
     "data": {
      "text/plain": [
       "'../../output/bees/saved'"
      ]
     },
     "execution_count": 5,
     "metadata": {},
     "output_type": "execute_result"
    }
   ],
   "source": [
    "check_directory(f\"../../output/{dataset_name}/training\")\n",
    "check_directory(f\"../../output/{dataset_name}/saved\")"
   ]
  },
  {
   "cell_type": "code",
   "execution_count": 6,
   "id": "e881cab4-3934-4e37-b267-1098889f1038",
   "metadata": {},
   "outputs": [],
   "source": [
    "train_df = pd.concat([X_train, y_train], axis=1)\n",
    "train_df.rename(columns={train_df.columns[-1]: 'target'}, inplace=True)\n",
    "train_df.to_csv(f'../../output/{dataset_name}/training/{dataset_name}-train.csv', index=False)\n",
    "\n",
    "test_df = pd.concat([X_test, y_test], axis=1)\n",
    "test_df.rename(columns={test_df.columns[-1]: 'target'}, inplace=True)\n",
    "test_df.to_csv(f'../../output/{dataset_name}/training/{dataset_name}-test.csv', index=False)"
   ]
  }
 ],
 "metadata": {
  "kernelspec": {
   "display_name": "Python 3 (ipykernel)",
   "language": "python",
   "name": "python3"
  },
  "language_info": {
   "codemirror_mode": {
    "name": "ipython",
    "version": 3
   },
   "file_extension": ".py",
   "mimetype": "text/x-python",
   "name": "python",
   "nbconvert_exporter": "python",
   "pygments_lexer": "ipython3",
   "version": "3.11.5"
  }
 },
 "nbformat": 4,
 "nbformat_minor": 5
}
