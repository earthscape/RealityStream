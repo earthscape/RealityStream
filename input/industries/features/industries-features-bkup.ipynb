{
  "nbformat": 4,
  "nbformat_minor": 0,
  "metadata": {
    "colab": {
      "provenance": []
    },
    "kernelspec": {
      "name": "python3",
      "display_name": "Python 3"
    },
    "language_info": {
      "name": "python"
    }
  },
  "cells": [
    {
      "cell_type": "markdown",
      "source": [
        "Developers: Sijia  \n",
        "https://model.earth/RealityStream/input/industries  \n",
        "Run locally or back up to:  \n",
        "model.earth/RealityStream/input/industries/industries-features-bkup.ipynb  \n",
        "TO DO: Pass in startyear and endyear as parameters.  \n",
        "TO DO: Loop through naics 2, 4 and 6.  \n",
        "TO DO: Save locally to community-timelines/training/all-years/naics[2,4,6]   \n",
        "TO DO: Select the targets using parameters via a Streamlit interface."
      ],
      "metadata": {
        "id": "i7_UlIoAybWh"
      }
    },
    {
      "cell_type": "code",
      "execution_count": null,
      "metadata": {
        "id": "rtFKCS4LkOzN"
      },
      "outputs": [],
      "source": [
        "import pandas as pd\n",
        "import regex as re"
      ]
    },
    {
      "cell_type": "code",
      "source": [
        "# Each targets file should contain only 2 columns\n",
        "target_url = f\"https://raw.githubusercontent.com/ModelEarth/RealityStream/main/input/bees/targets/bees-targets.csv\"\n",
        "target_df = pd.read_csv(target_url)"
      ],
      "metadata": {
        "id": "SD2D6zlgab6V"
      },
      "execution_count": null,
      "outputs": []
    },
    {
      "cell_type": "code",
      "source": [
        "industries-features.ipynb"
      ],
      "metadata": {
        "id": "hyoNc1PEaCU0"
      },
      "execution_count": null,
      "outputs": []
    },
    {
      "cell_type": "code",
      "source": [
        "years = range(2017,2022)\n",
        "naics_level = [2,4,6]"
      ],
      "metadata": {
        "id": "pRc8O8CvkYx1"
      },
      "execution_count": null,
      "outputs": []
    },
    {
      "cell_type": "code",
      "source": [
        "state_dict = {\n",
        "    \"AL\": \"ALABAMA\",\n",
        "    \"AK\": \"ALASKA\",\n",
        "    \"AZ\": \"ARIZONA\",\n",
        "    \"AR\": \"ARKANSAS\",\n",
        "    \"CA\": \"CALIFORNIA\",\n",
        "    \"CO\": \"COLORADO\",\n",
        "    \"CT\": \"CONNECTICUT\",\n",
        "    \"DE\": \"DELAWARE\",\n",
        "    \"FL\": \"FLORIDA\",\n",
        "    \"GA\": \"GEORGIA\",\n",
        "    \"HI\": \"HAWAII\",\n",
        "    \"ID\": \"IDAHO\",\n",
        "    \"IL\": \"ILLINOIS\",\n",
        "    \"IN\": \"INDIANA\",\n",
        "    \"IA\": \"IOWA\",\n",
        "    \"KS\": \"KANSAS\",\n",
        "    \"KY\": \"KENTUCKY\",\n",
        "    \"LA\": \"LOUISIANA\",\n",
        "    \"ME\": \"MAINE\",\n",
        "    \"MD\": \"MARYLAND\",\n",
        "    \"MA\": \"MASSACHUSETTS\",\n",
        "    \"MI\": \"MICHIGAN\",\n",
        "    \"MN\": \"MINNESOTA\",\n",
        "    \"MS\": \"MISSISSIPPI\",\n",
        "    \"MO\": \"MISSOURI\",\n",
        "    \"MT\": \"MONTANA\",\n",
        "    \"NE\": \"NEBRASKA\",\n",
        "    \"NV\": \"NEVADA\",\n",
        "    \"NH\": \"NEW HAMPSHIRE\",\n",
        "    \"NJ\": \"NEW JERSEY\",\n",
        "    \"NM\": \"NEW MEXICO\",\n",
        "    \"NY\": \"NEW YORK\",\n",
        "    \"NC\": \"NORTH CAROLINA\",\n",
        "    \"ND\": \"NORTH DAKOTA\",\n",
        "    \"OH\": \"OHIO\",\n",
        "    \"OK\": \"OKLAHOMA\",\n",
        "    \"OR\": \"OREGON\",\n",
        "    \"PA\": \"PENNSYLVANIA\",\n",
        "    \"RI\": \"RHODE ISLAND\",\n",
        "    \"SC\": \"SOUTH CAROLINA\",\n",
        "    \"SD\": \"SOUTH DAKOTA\",\n",
        "    \"TN\": \"TENNESSEE\",\n",
        "    \"TX\": \"TEXAS\",\n",
        "    \"UT\": \"UTAH\",\n",
        "    \"VT\": \"VERMONT\",\n",
        "    \"VA\": \"VIRGINIA\",\n",
        "    \"WA\": \"WASHINGTON\",\n",
        "    \"WV\": \"WEST VIRGINIA\",\n",
        "    \"WI\": \"WISCONSIN\",\n",
        "    \"WY\": \"WYOMING\"\n",
        "}"
      ],
      "metadata": {
        "id": "IdUt24w63WDa"
      },
      "execution_count": null,
      "outputs": []
    },
    {
      "cell_type": "code",
      "source": [
        "def rename_columns(df, year):\n",
        "    rename_mapping = {}\n",
        "    for column in df.columns:\n",
        "      if column not in df.columns[:2]:\n",
        "          new_column_name = column + f'-{year}'\n",
        "          rename_mapping[column] = new_column_name\n",
        "\n",
        "    df.rename(columns=rename_mapping, inplace=True)"
      ],
      "metadata": {
        "id": "jv_AUQwjnrkN"
      },
      "execution_count": null,
      "outputs": []
    },
    {
      "cell_type": "code",
      "source": [
        "for state in state_dict:\n",
        "  data = {}\n",
        "  for year in years:\n",
        "    url = f\"https://raw.githubusercontent.com/ModelEarth/community-timelines/main/training/naics2/US/counties/{year}/US-{state}-training-naics2-counties-{year}.csv\"\n",
        "    data[year] = pd.read_csv(url)\n",
        "    rename_columns(data[year], year)\n",
        "\n",
        "  merged_df_feature = pd.merge(data[2017], data[2018], on=['Fips', 'Name'], how='inner')\n",
        "  for year in range(2019,2022):\n",
        "    merged_df_feature = pd.merge(merged_df_feature, data[year], on=['Fips', 'Name'], how='inner')\n",
        "\n",
        "  cols = merged_df_feature.columns.tolist()\n",
        "  cols = cols[:2] + sorted(cols[2:])\n",
        "  merged_df_feature = merged_df_feature[cols].rename(columns={\"Name\": \"County\"})\n",
        "\n",
        "  # TO DO: Pull targets using a parameter instead. Remove '2007_increase','2012_increase','2017_increase' from this CoLab.\n",
        "  merged_df = pd.merge(merged_df_feature, target_df[target_df[\"State\"]==state_dict[state]], on=[\"Fips\",\"County\"], how=\"inner\")\n",
        "  merged_df.drop(columns=['Unnamed: 0','Name','State','State ANSI', 'County ANSI', '2007_increase','2012_increase','2017_increase'], axis=1, inplace=True)\n",
        "  merged_df.to_csv(f\"{state}-all-years.csv\")\n",
        "  # print(merged_df)\n",
        "  # break"
      ],
      "metadata": {
        "id": "kd5ZXB8M2Sp6",
        "colab": {
          "base_uri": "https://localhost:8080/"
        },
        "outputId": "3647b583-02e6-4d74-9d4d-bc400d7bccd9"
      },
      "execution_count": null,
      "outputs": [
        {
          "output_type": "stream",
          "name": "stdout",
          "text": [
            "    Fips             County  Emp-11-2017  Emp-11-2018  Emp-11-2019  \\\n",
            "0   1099      Monroe County        207.0        217.0        192.0   \n",
            "1   1079    Lawrence County          NaN          NaN          NaN   \n",
            "2   1081         Lee County         79.0         83.0         43.0   \n",
            "3   1093      Marion County         71.0         68.0         63.0   \n",
            "4   1107     Pickens County         89.0         95.0         92.0   \n",
            "..   ...                ...          ...          ...          ...   \n",
            "60  1001     Autauga County         93.0         93.0         86.0   \n",
            "61  1123  Tallapoosa County         62.0         61.0         71.0   \n",
            "62  1061      Geneva County          NaN          NaN          NaN   \n",
            "63  1131      Wilcox County         97.0         91.0         74.0   \n",
            "64  1037       Coosa County         81.0         73.0         76.0   \n",
            "\n",
            "    Emp-11-2020  Emp-11-2021  Emp-21-2017  Emp-21-2018  Emp-21-2019  ...  \\\n",
            "0         174.0        200.0          NaN          NaN         28.0  ...   \n",
            "1           NaN          NaN          NaN          NaN          NaN  ...   \n",
            "2          70.0         75.0          NaN          NaN         54.0  ...   \n",
            "3          56.0         54.0          NaN          NaN          NaN  ...   \n",
            "4          79.0         70.0          NaN          NaN          NaN  ...   \n",
            "..          ...          ...          ...          ...          ...  ...   \n",
            "60         92.0         78.0         60.0         84.0         80.0  ...   \n",
            "61         70.0         74.0          NaN          NaN          NaN  ...   \n",
            "62          NaN          NaN          NaN          NaN          NaN  ...   \n",
            "63         84.0         87.0          NaN          NaN          NaN  ...   \n",
            "64         73.0         71.0          NaN          NaN          NaN  ...   \n",
            "\n",
            "    UrbanDensity-2020  UrbanDensity-2021                  Ag District  \\\n",
            "0                0.00               0.00  COASTAL PLAINS & GULF COAST   \n",
            "1                0.00               0.00              NORTHERN VALLEY   \n",
            "2                2.68               2.67      UPPER PLAINS & PIEDMONT   \n",
            "3                0.00               0.00              NORTHERN VALLEY   \n",
            "4                0.00               0.00      UPPER PLAINS & PIEDMONT   \n",
            "..                ...                ...                          ...   \n",
            "60               1.72               1.56                   BLACK BELT   \n",
            "61               0.00               0.00      UPPER PLAINS & PIEDMONT   \n",
            "62               0.00               0.00                    WIREGRASS   \n",
            "63               0.00               0.00  COASTAL PLAINS & GULF COAST   \n",
            "64               0.00               0.00      UPPER PLAINS & PIEDMONT   \n",
            "\n",
            "    Ag District Code    2002   2007   2012   2017   2022  2022_increase  \n",
            "0               50.0   517.0  132.0   90.0  327.0   64.0            0.0  \n",
            "1               10.0     8.0   51.0   77.0  158.0   93.0            0.0  \n",
            "2               30.0   517.0   81.0   10.0   20.0  168.0            1.0  \n",
            "3               10.0   105.0   42.0   41.0   22.0  113.0            1.0  \n",
            "4               30.0   517.0  102.0  113.0   26.0   11.0            0.0  \n",
            "..               ...     ...    ...    ...    ...    ...            ...  \n",
            "60              40.0   212.0  201.0  119.0  137.0  258.0            1.0  \n",
            "61              30.0  2399.0  517.0  517.0  431.0  656.0            1.0  \n",
            "62              60.0   517.0  112.0  104.0  157.0   32.0            0.0  \n",
            "63              50.0   517.0   62.0  517.0  431.0   18.0            0.0  \n",
            "64              30.0   517.0  517.0   79.0  431.0  128.0            0.0  \n",
            "\n",
            "[65 rows x 295 columns]\n"
          ]
        }
      ]
    },
    {
      "cell_type": "code",
      "source": [],
      "metadata": {
        "id": "PoHLYF61xyl1"
      },
      "execution_count": null,
      "outputs": []
    }
  ]
}