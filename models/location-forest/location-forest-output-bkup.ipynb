{
  "nbformat": 4,
  "nbformat_minor": 0,
  "metadata": {
    "colab": {
      "provenance": []
    },
    "kernelspec": {
      "name": "python3",
      "display_name": "Python 3"
    },
    "language_info": {
      "name": "python"
    }
  },
  "cells": [
    {
      "cell_type": "markdown",
      "source": [
        "Build Tree Model"
      ],
      "metadata": {
        "id": "KS9rO86je_1s"
      }
    },
    {
      "cell_type": "code",
      "execution_count": 2,
      "metadata": {
        "id": "Xabu4LABA-aL"
      },
      "outputs": [],
      "source": [
        "import pandas as pd\n",
        "import numpy as np\n",
        "import matplotlib.pyplot as plt\n",
        "\n",
        "from sklearn.model_selection import train_test_split\n",
        "from sklearn.model_selection import cross_validate\n",
        "from sklearn.preprocessing import StandardScaler\n",
        "from sklearn.ensemble import RandomForestClassifier\n",
        "from sklearn.model_selection import cross_val_score\n",
        "from sklearn.model_selection import GridSearchCV\n",
        "from sklearn.metrics import accuracy_score, f1_score, recall_score, precision_score"
      ]
    },
    {
      "cell_type": "markdown",
      "source": [
        "Load input (first deploy to GitHub)"
      ],
      "metadata": {
        "id": "CfAYs6Lvfpne"
      }
    },
    {
      "cell_type": "code",
      "source": [
        "df = pd.read_csv(\"https://raw.githubusercontent.com/ModelEarth/RealityStream/main/input/bees/targets/bees-targets.csv\")\n"
      ],
      "metadata": {
        "id": "txuoQ7yQO8wK"
      },
      "execution_count": 3,
      "outputs": []
    },
    {
      "cell_type": "markdown",
      "source": [
        "Procedure to run a single state\n",
        "Take Maine as an example"
      ],
      "metadata": {
        "id": "_pttyJyUgA9N"
      }
    },
    {
      "cell_type": "code",
      "source": [
        "df_full_model=df_fips[df_fips['State'] == 'MAINE']\n",
        "\n",
        "\n",
        "\n",
        "X = df_full_model.drop(columns=['Fips','Name','label','Longitude','Latitude'])\n",
        "y = df_full_model['label']\n",
        "\n",
        "X_train, X_test, y_train, y_test = train_test_split(X, y, test_size=0.2, stratify=y)\n",
        "scaler = StandardScaler()\n",
        "X_train = scaler.fit_transform(X_train)\n",
        "X_test = scaler.transform(X_test)\n",
        "\n",
        "rfc=RandomForestClassifier()\n",
        "param_grid = {\n",
        "    'n_estimators': [50, 100, 150, 200, 250],\n",
        "    'max_depth' : [5, 10, 20, 50, 80]\n",
        "}\n",
        "rfcs = GridSearchCV(estimator=rfc, param_grid=param_grid, cv= 5)\n",
        "rfcs.fit(X_train, y_train)\n",
        "#save optimal parameters\n",
        "n_estimator = rfcs.best_params_['n_estimators']\n",
        "depth = rfcs.best_params_['max_depth']\n",
        "print(f'n_estimators = {n_estimator} and max_depth = {depth}')\n",
        "\n",
        "\n",
        "#fit a new random forest with optimal parameters\n",
        "opt_rfc = RandomForestClassifier(n_estimators= n_estimator, max_depth=depth)\n",
        "opt_rfc.fit(X_train, y_train)\n",
        "pred_train = opt_rfc.predict(X_train)\n",
        "pred_test = opt_rfc.predict(X_test)\n",
        "\n",
        "accu_train = accuracy_score(y_train, pred_train)\n",
        "accu_test = accuracy_score(y_test, pred_test)\n",
        "\n",
        "f1_train = f1_score(y_train, pred_train)\n",
        "f1_test = f1_score(y_test, pred_test)\n",
        "\n",
        "recall_train = recall_score(y_train, pred_train)\n",
        "recall_test = recall_score(y_test, pred_test)\n",
        "\n",
        "precision_train = precision_score(y_train, pred_train)\n",
        "precision_test = precision_score(y_test, pred_test)\n",
        "print(f'Accuracy score on train set = {accu_train} and accuracy score on test set = {accu_test}')\n",
        "print(f'f1 score on train set = {f1_train} and f1 score on test set = {f1_test}')\n",
        "print(f'Recall score on train set = {recall_train} and recall score on test set = {recall_test}')\n",
        "print(f'Precision score on train set = {precision_train} and precision score on test set = {precision_test}')"
      ],
      "metadata": {
        "id": "W9GkD6sqfSGU",
        "colab": {
          "base_uri": "https://localhost:8080/",
          "height": 216
        },
        "outputId": "8d478f26-4533-45bc-e720-d5028c0d894c"
      },
      "execution_count": 4,
      "outputs": [
        {
          "output_type": "error",
          "ename": "NameError",
          "evalue": "name 'df_fips' is not defined",
          "traceback": [
            "\u001b[0;31m---------------------------------------------------------------------------\u001b[0m",
            "\u001b[0;31mNameError\u001b[0m                                 Traceback (most recent call last)",
            "\u001b[0;32m<ipython-input-4-5610d7f886bc>\u001b[0m in \u001b[0;36m<cell line: 1>\u001b[0;34m()\u001b[0m\n\u001b[0;32m----> 1\u001b[0;31m \u001b[0mdf_full_model\u001b[0m\u001b[0;34m=\u001b[0m\u001b[0mdf_fips\u001b[0m\u001b[0;34m[\u001b[0m\u001b[0mdf_fips\u001b[0m\u001b[0;34m[\u001b[0m\u001b[0;34m'State'\u001b[0m\u001b[0;34m]\u001b[0m \u001b[0;34m==\u001b[0m \u001b[0;34m'MAINE'\u001b[0m\u001b[0;34m]\u001b[0m\u001b[0;34m\u001b[0m\u001b[0;34m\u001b[0m\u001b[0m\n\u001b[0m\u001b[1;32m      2\u001b[0m \u001b[0;34m\u001b[0m\u001b[0m\n\u001b[1;32m      3\u001b[0m \u001b[0;34m\u001b[0m\u001b[0m\n\u001b[1;32m      4\u001b[0m \u001b[0;34m\u001b[0m\u001b[0m\n\u001b[1;32m      5\u001b[0m \u001b[0mX\u001b[0m \u001b[0;34m=\u001b[0m \u001b[0mdf_full_model\u001b[0m\u001b[0;34m.\u001b[0m\u001b[0mdrop\u001b[0m\u001b[0;34m(\u001b[0m\u001b[0mcolumns\u001b[0m\u001b[0;34m=\u001b[0m\u001b[0;34m[\u001b[0m\u001b[0;34m'Fips'\u001b[0m\u001b[0;34m,\u001b[0m\u001b[0;34m'Name'\u001b[0m\u001b[0;34m,\u001b[0m\u001b[0;34m'label'\u001b[0m\u001b[0;34m,\u001b[0m\u001b[0;34m'Longitude'\u001b[0m\u001b[0;34m,\u001b[0m\u001b[0;34m'Latitude'\u001b[0m\u001b[0;34m]\u001b[0m\u001b[0;34m)\u001b[0m\u001b[0;34m\u001b[0m\u001b[0;34m\u001b[0m\u001b[0m\n",
            "\u001b[0;31mNameError\u001b[0m: name 'df_fips' is not defined"
          ]
        }
      ]
    },
    {
      "cell_type": "markdown",
      "source": [
        "Try on different state"
      ],
      "metadata": {
        "id": "j45z0_nBsY3_"
      }
    },
    {
      "cell_type": "code",
      "source": [
        "states = [\"AK\", \"AL\", \"AR\", \"AZ\", \"CA\", \"CO\", \"CT\", \"DE\", \"FL\", \"GA\", \"HI\", \"IA\",\n",
        "          \"ID\", \"IL\", \"IN\", \"KS\", \"KY\", \"LA\", \"MA\", \"MD\", \"ME\", \"MI\", \"MN\", \"MO\",\n",
        "          \"MS\", \"MT\", \"NC\", \"ND\", \"NE\", \"NH\", \"NJ\", \"NM\", \"NV\", \"NY\", \"OH\", \"OK\",\n",
        "          \"OR\", \"PA\", \"RI\", \"SC\", \"SD\", \"TN\", \"TX\", \"UT\", \"VA\", \"VT\", \"WA\", \"WI\",\n",
        "          \"WV\", \"WY\"]"
      ],
      "metadata": {
        "id": "ilLr-9aFsYhE"
      },
      "execution_count": null,
      "outputs": []
    }
  ]
}