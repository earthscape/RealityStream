{
  "nbformat": 4,
  "nbformat_minor": 0,
  "metadata": {
    "colab": {
      "provenance": []
    },
    "kernelspec": {
      "name": "python3",
      "display_name": "Python 3"
    },
    "language_info": {
      "name": "python"
    }
  },
  "cells": [
    {
      "cell_type": "markdown",
      "source": [
        "Backup and run loacally at:\n",
        "https://model.earth/RealityStream/models/location-forest\n",
        "\n",
        "Load Libraries and data"
      ],
      "metadata": {
        "id": "5dO88RvhLC1c"
      }
    },
    {
      "cell_type": "code",
      "execution_count": 10,
      "metadata": {
        "id": "Lt4iSgHqLCVR"
      },
      "outputs": [],
      "source": [
        "import pandas as pd\n",
        "import numpy as np\n",
        "import matplotlib.pyplot as plt\n",
        "\n",
        "# Get the raw file contents directly without any HTML wrapping or formatting\n",
        "df = pd.read_csv(\"https://raw.githubusercontent.com/ModelEarth/RealityStream/main/input/bees/locations/bees-locations.csv\")\n",
        "# df = pd.read_csv(\"../../input/bees/locations/bees-locations.csv\")\n",
        "\n",
        "df = df[['Year', 'State', 'State ANSI', 'Ag District', 'Ag District Code', 'County',\n",
        "       'County ANSI','Value']]\n",
        "df = df.pivot(index=['State', 'State ANSI', 'Ag District', 'Ag District Code', 'County',\n",
        "       'County ANSI',], columns='Year', values='Value').reset_index()\n",
        "df = df.rename_axis(None, axis=1)\n",
        "df = df.replace(\" (D)\", np.NaN)\n"
      ]
    },
    {
      "cell_type": "markdown",
      "source": [
        "Preprocess the data  \n",
        "TO DO: Modify to work with all input data, regardless of year"
      ],
      "metadata": {
        "id": "eFoDFmdD3cAY"
      }
    },
    {
      "cell_type": "code",
      "source": [
        "# remove ',' in number\n",
        "df[2002] = df[2002].str.replace(',', '')\n",
        "df[2007] = df[2007].str.replace(',', '')\n",
        "df[2012] = df[2012].str.replace(',', '')\n",
        "df[2017] = df[2017].str.replace(',', '')\n",
        "df[2022] = df[2022].str.replace(',', '')\n",
        "# convert columns to int date type\n",
        "df[2002] = df[2002].fillna(0).astype(str).astype(int)\n",
        "df[2007] = df[2007].fillna(0).astype(str).astype(int)\n",
        "df[2012] = df[2012].fillna(0).astype(str).astype(int)\n",
        "df[2017] = df[2017].fillna(0).astype(str).astype(int)\n",
        "df[2022] = df[2022].fillna(0).astype(str).astype(int)\n",
        "# replace 0 back to nan\n",
        "df[2002] = df[2002].replace(0, np.NaN)\n",
        "df[2007] = df[2007].replace(0, np.NaN)\n",
        "df[2012] = df[2012].replace(0, np.NaN)\n",
        "df[2017] = df[2017].replace(0, np.NaN)\n",
        "df[2022] = df[2022].replace(0, np.NaN)\n",
        "# replace outliers to nan\n",
        "df[2002] = df[2002].mask(df[2012].sub(df[2012].mean()).div(df[2012].std()).abs().gt(2))\n",
        "df[2007] = df[2007].mask(df[2012].sub(df[2012].mean()).div(df[2012].std()).abs().gt(2))\n",
        "df[2012] = df[2012].mask(df[2012].sub(df[2012].mean()).div(df[2012].std()).abs().gt(2))\n",
        "df[2017] = df[2017].mask(df[2017].sub(df[2017].mean()).div(df[2017].std()).abs().gt(2))\n",
        "df[2022] = df[2022].mask(df[2022].sub(df[2022].mean()).div(df[2022].std()).abs().gt(2))\n",
        "# impute nan with mean\n",
        "df[2002].fillna(value=round(df[2012].mean()), inplace=True)\n",
        "df[2007].fillna(value=round(df[2012].mean()), inplace=True)\n",
        "df[2012].fillna(value=round(df[2012].mean()), inplace=True)\n",
        "df[2017].fillna(value=round(df[2017].mean()), inplace=True)\n",
        "df[2022].fillna(value=round(df[2022].mean()), inplace=True)\n",
        "df['2007_increase'] = df.apply(lambda x: 0 if (x[2007] - x[2002]) < 0 else 1, axis=1)\n",
        "df['2012_increase'] = df.apply(lambda x: 0 if (x[2012] - x[2007]) < 0 else 1, axis=1)\n",
        "df['2017_increase'] = df.apply(lambda x: 0 if (x[2017] - x[2012]) < 0 else 1, axis=1)\n",
        "df['2022_increase'] = df.apply(lambda x: 0 if (x[2022] - x[2017]) < 0 else 1, axis=1)\n",
        "df['County'] = df['County'].apply(lambda x: x.title()+' County')"
      ],
      "metadata": {
        "id": "khEr0Ixc3bq0"
      },
      "execution_count": null,
      "outputs": []
    },
    {
      "cell_type": "markdown",
      "source": [
        "df_fips is the dataset for national bee population."
      ],
      "metadata": {
        "id": "pVln8gbNZWHE"
      }
    },
    {
      "cell_type": "code",
      "source": [
        "states = [\"AK\", \"AL\", \"AR\", \"AZ\", \"CA\", \"CO\", \"CT\", \"DE\", \"FL\", \"GA\", \"HI\", \"IA\",\n",
        "          \"ID\", \"IL\", \"IN\", \"KS\", \"KY\", \"LA\", \"MA\", \"MD\", \"ME\", \"MI\", \"MN\", \"MO\",\n",
        "          \"MS\", \"MT\", \"NC\", \"ND\", \"NE\", \"NH\", \"NJ\", \"NM\", \"NV\", \"NY\", \"OH\", \"OK\",\n",
        "          \"OR\", \"PA\", \"RI\", \"SC\", \"SD\", \"TN\", \"TX\", \"UT\", \"VA\", \"VT\", \"WA\", \"WI\",\n",
        "          \"WV\", \"WY\"]\n",
        "year = 2021\n",
        "naics_value = 4\n",
        "df_full = pd.DataFrame()\n",
        "for state in states:\n",
        "  url = f\"https://raw.githubusercontent.com/ModelEarth/community-timelines/main/training/naics{naics_value}/US/counties/{year}/US-{state}-training-naics{naics_value}-counties-{year}.csv\"\n",
        "  df_ind = pd.read_csv(url)\n",
        "  df_full = pd.concat([df_full, df_ind], axis=0, join='outer')\n",
        "\n",
        "df_fips = df_full[['Name','Fips']].merge(df, how='outer', left_on='Name', right_on='County')\n",
        "df_fips.to_csv('../../input/targets/bees-targets.csv')"
      ],
      "metadata": {
        "id": "_fsaHB1B3iMe"
      },
      "execution_count": null,
      "outputs": []
    }
  ]
}