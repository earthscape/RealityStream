{
 "cells": [
  {
   "cell_type": "code",
   "execution_count": 1,
   "id": "8d8b30f4-246c-49f3-a4fb-92ebff0303a7",
   "metadata": {},
   "outputs": [],
   "source": [
    "import pandas as pd\n",
    "import numpy as np\n",
    "import os\n",
    "from sklearn.ensemble import RandomForestClassifier\n",
    "from sklearn.linear_model import LogisticRegression\n",
    "from sklearn.svm import SVC\n",
    "from sklearn.metrics import accuracy_score, classification_report, roc_curve, roc_auc_score\n",
    "from imblearn.over_sampling import SMOTE\n",
    "import pickle"
   ]
  },
  {
   "cell_type": "code",
   "execution_count": 2,
   "id": "aab7b6b7-328e-4336-ba85-3228993c73ae",
   "metadata": {},
   "outputs": [],
   "source": [
    "def check_directory(directory_path):\n",
    "    if not os.path.exists(directory_path):\n",
    "        try:\n",
    "            os.makedirs(directory_path)\n",
    "            print(f\"Directory '{directory_path}' created successfully.\")\n",
    "        except OSError as e:\n",
    "            print(f\"Error creating directory '{directory_path}': {e}\")\n",
    "    else:\n",
    "        print(f\"Directory '{directory_path}' already exists.\")\n",
    "    return directory_path"
   ]
  },
  {
   "cell_type": "code",
   "execution_count": 10,
   "id": "888c73d0-54c2-41ed-a026-b5be7462e295",
   "metadata": {},
   "outputs": [],
   "source": [
    "# X_train, y_train, X_test, y_test have already been vectorized and stored in csv files\n",
    "def train_model(model, X_train, y_train, X_test, y_test, over_sample):\n",
    "    if over_sample:\n",
    "        sm = SMOTE(random_state = 2)\n",
    "        X_train, y_train = sm.fit_resample(X_train, y_train.ravel())\n",
    "        print(\"Oversampling Done for Training Data.\")\n",
    "\n",
    "    model = model.fit(X_train, y_train)\n",
    "    print(\"Model Fitted Successfully.\")\n",
    "\n",
    "    # calculating y_pred\n",
    "    y_pred = model.predict(X_test)\n",
    "    y_pred_prob = model.predict_proba(X_test)\n",
    "    roc_auc = round(roc_auc_score(y_test, y_pred_prob[:, 1]), 2)\n",
    "\n",
    "    print(f\"\\033[1mROC-AUC Score\\033[0m \\t\\t: {roc_auc*100} %\")\n",
    "\n",
    "    fpr, tpr, thresholds = roc_curve(y_test, y_pred_prob[:,1], pos_label=1)\n",
    "    \n",
    "    gmeans = np.sqrt(tpr * (1-fpr))\n",
    "    \n",
    "    ix = np.argmax(gmeans)\n",
    "    print('\\033[1mBest Threshold\\033[0m \\t\\t: %.3f \\n\\033[1mG-Mean\\033[0m \\t\\t\\t: %.3f' % (thresholds[ix], gmeans[ix]))\n",
    "\n",
    "    y_pred = (y_pred > thresholds[ix])\n",
    "\n",
    "    accuracy = accuracy_score(y_test, y_pred)\n",
    "    print(\"\\033[1mModel Accuracy\\033[0m \\t\\t:\", round(accuracy,2,)*100, \"%\")\n",
    "\n",
    "    print(\"\\033[1m\\nClassification Report:\\033[0m\")\n",
    "    print(classification_report(y_test, y_pred))\n",
    "\n",
    "    return model, y_pred"
   ]
  },
  {
   "cell_type": "code",
   "execution_count": 17,
   "id": "e33c916b-640a-4265-b077-a90d8112a18a",
   "metadata": {},
   "outputs": [],
   "source": [
    "def save_model(model, dataset_name, model_name):\n",
    "    data = {\n",
    "    \"model\": model\n",
    "    }\n",
    "    with open(f'../output/{dataset_name}/saved/trained_{model_name}.pkl', 'wb') as file:\n",
    "        pickle.dump(data, file)"
   ]
  },
  {
   "cell_type": "code",
   "execution_count": 6,
   "id": "5b6ba534-dd09-498c-87a2-f8c1a7ebee42",
   "metadata": {},
   "outputs": [
    {
     "name": "stdout",
     "output_type": "stream",
     "text": [
      "Directory '../output/blinks/training' already exists.\n",
      "Directory '../output/blinks/saved' already exists.\n"
     ]
    }
   ],
   "source": [
    "dataset_name = \"blinks\" # to be modified with argparse in .py file\n",
    "\n",
    "check_directory(f\"../output/{dataset_name}/training\")\n",
    "check_directory(f\"../output/{dataset_name}/saved\")\n",
    "\n",
    "#X_train_path = f\"../output/{dataset_name}/training/{dataset_name}-Xtrain.csv\"\n",
    "#y_train_path = f\"../output/{dataset_name}/training/{dataset_name}-ytrain.csv\"\n",
    "#X_test_path = f\"../output/{dataset_name}/training/{dataset_name}-Xtest.csv\"\n",
    "#y_test_path = f\"../output/{dataset_name}/training/{dataset_name}-ytest.csv\"\n",
    "\n",
    "train_path = f\"../output/{dataset_name}/training/{dataset_name}-train.csv\"\n",
    "test_path = f\"../output/{dataset_name}/training/{dataset_name}-test.csv\"\n",
    "\n",
    "df_train, df_test = pd.read_csv(train_path), pd.read_csv(test_path)\n",
    "\n",
    "X_train, y_train = df_train.drop(\"target\", axis=1), df_train[\"target\"]\n",
    "X_test, y_test = df_test.drop(\"target\", axis=1), df_test[\"target\"]"
   ]
  },
  {
   "cell_type": "code",
   "execution_count": 18,
   "id": "bf3a6765-eba4-4589-ade0-6c242a643ec8",
   "metadata": {},
   "outputs": [
    {
     "name": "stdout",
     "output_type": "stream",
     "text": [
      "Oversampling Done for Training Data.\n",
      "Model Fitted Successfully.\n",
      "\u001b[1mROC-AUC Score\u001b[0m \t\t: 67.0 %\n",
      "\u001b[1mBest Threshold\u001b[0m \t\t: 0.528 \n",
      "\u001b[1mG-Mean\u001b[0m \t\t\t: 0.624\n",
      "\u001b[1mModel Accuracy\u001b[0m \t\t: 62.0 %\n",
      "\u001b[1m\n",
      "Classification Report:\u001b[0m\n",
      "              precision    recall  f1-score   support\n",
      "\n",
      "           0       0.64      0.63      0.64      1586\n",
      "           1       0.59      0.61      0.60      1410\n",
      "\n",
      "    accuracy                           0.62      2996\n",
      "   macro avg       0.62      0.62      0.62      2996\n",
      "weighted avg       0.62      0.62      0.62      2996\n",
      "\n"
     ]
    }
   ],
   "source": [
    "model_LR = LogisticRegression(max_iter=1000)\n",
    "model_LR, y_pred = train_model(model_LR, X_train, y_train, X_test, y_test, True)\n",
    "save_model(model_LR, dataset_name, \"LogisticRegression\")"
   ]
  },
  {
   "cell_type": "code",
   "execution_count": 19,
   "id": "c1413eaf-9c78-424b-9707-35ace8302d7f",
   "metadata": {},
   "outputs": [
    {
     "name": "stdout",
     "output_type": "stream",
     "text": [
      "Oversampling Done for Training Data.\n",
      "Model Fitted Successfully.\n",
      "\u001b[1mROC-AUC Score\u001b[0m \t\t: 98.0 %\n",
      "\u001b[1mBest Threshold\u001b[0m \t\t: 0.440 \n",
      "\u001b[1mG-Mean\u001b[0m \t\t\t: 0.928\n",
      "\u001b[1mModel Accuracy\u001b[0m \t\t: 92.0 %\n",
      "\u001b[1m\n",
      "Classification Report:\u001b[0m\n",
      "              precision    recall  f1-score   support\n",
      "\n",
      "           0       0.91      0.95      0.93      1586\n",
      "           1       0.94      0.90      0.92      1410\n",
      "\n",
      "    accuracy                           0.92      2996\n",
      "   macro avg       0.93      0.92      0.92      2996\n",
      "weighted avg       0.93      0.92      0.92      2996\n",
      "\n"
     ]
    }
   ],
   "source": [
    "model_RF = RandomForestClassifier(n_jobs=3, oob_score=True, n_estimators=100, criterion=\"gini\")\n",
    "model_RF, y_pred = train_model(model_RF, X_train, y_train, X_test, y_test, True)\n",
    "save_model(model_RF, dataset_name, \"RandomForests\")"
   ]
  },
  {
   "cell_type": "code",
   "execution_count": 21,
   "id": "c1b1745f-dcb4-4bfc-a0f2-6676b33e73a6",
   "metadata": {},
   "outputs": [
    {
     "name": "stdout",
     "output_type": "stream",
     "text": [
      "Oversampling Done for Training Data.\n",
      "Model Fitted Successfully.\n",
      "\u001b[1mROC-AUC Score\u001b[0m \t\t: 50.0 %\n",
      "\u001b[1mBest Threshold\u001b[0m \t\t: 0.500 \n",
      "\u001b[1mG-Mean\u001b[0m \t\t\t: 0.025\n",
      "\u001b[1mModel Accuracy\u001b[0m \t\t: 48.0 %\n",
      "\u001b[1m\n",
      "Classification Report:\u001b[0m\n",
      "              precision    recall  f1-score   support\n",
      "\n",
      "           0       0.67      0.03      0.06      1586\n",
      "           1       0.47      0.98      0.64      1410\n",
      "\n",
      "    accuracy                           0.48      2996\n",
      "   macro avg       0.57      0.51      0.35      2996\n",
      "weighted avg       0.58      0.48      0.33      2996\n",
      "\n"
     ]
    }
   ],
   "source": [
    "model_SVM = SVC()\n",
    "model_SVM, y_pred = train_model(model_SVM, X_train, y_train, X_test, y_test, True)\n",
    "save_model(model_SVM, dataset_name, \"SVM\")"
   ]
  }
 ],
 "metadata": {
  "kernelspec": {
   "display_name": "Python 3 (ipykernel)",
   "language": "python",
   "name": "python3"
  },
  "language_info": {
   "codemirror_mode": {
    "name": "ipython",
    "version": 3
   },
   "file_extension": ".py",
   "mimetype": "text/x-python",
   "name": "python",
   "nbconvert_exporter": "python",
   "pygments_lexer": "ipython3",
   "version": "3.11.5"
  }
 },
 "nbformat": 4,
 "nbformat_minor": 5
}
